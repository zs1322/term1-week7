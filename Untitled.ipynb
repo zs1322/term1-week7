{
 "cells": [
  {
   "cell_type": "code",
   "execution_count": 12,
   "id": "4d01f26d",
   "metadata": {},
   "outputs": [
    {
     "data": {
      "text/plain": [
       "[0j,\n",
       " 'uno',\n",
       " 2,\n",
       " 3.0,\n",
       " (4+0j),\n",
       " 'cinco',\n",
       " 6,\n",
       " 7.0,\n",
       " (8+0j),\n",
       " 'nueve',\n",
       " 10,\n",
       " 11.0,\n",
       " (12+0j),\n",
       " 'trece',\n",
       " 14,\n",
       " 15.0,\n",
       " (16+0j),\n",
       " 'diecisiete',\n",
       " 18,\n",
       " 19.0]"
      ]
     },
     "execution_count": 12,
     "metadata": {},
     "output_type": "execute_result"
    }
   ],
   "source": [
    "list1=[0+0j, 'one', 2, 3.0, 4+0j, 'five', 6, 7.0, 8+0j, 'nine', 10, 11.0, 12+0j, 'thirteen', 14, 15.0, 16+0j, 'seventeen', 18, 19.0]\n",
    "list1[1:19:4]='uno','cinco','nueve','trece','diecisiete'\n",
    "list1"
   ]
  },
  {
   "cell_type": "code",
   "execution_count": null,
   "id": "8afbed9d",
   "metadata": {},
   "outputs": [],
   "source": []
  },
  {
   "cell_type": "code",
   "execution_count": null,
   "id": "f0d728d9",
   "metadata": {},
   "outputs": [],
   "source": []
  }
 ],
 "metadata": {
  "kernelspec": {
   "display_name": "Python 3 (ipykernel)",
   "language": "python",
   "name": "python3"
  },
  "language_info": {
   "codemirror_mode": {
    "name": "ipython",
    "version": 3
   },
   "file_extension": ".py",
   "mimetype": "text/x-python",
   "name": "python",
   "nbconvert_exporter": "python",
   "pygments_lexer": "ipython3",
   "version": "3.9.13"
  }
 },
 "nbformat": 4,
 "nbformat_minor": 5
}
