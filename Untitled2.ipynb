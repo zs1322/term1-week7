{
 "cells": [
  {
   "cell_type": "code",
   "execution_count": 19,
   "id": "c714cf29",
   "metadata": {},
   "outputs": [
    {
     "name": "stdout",
     "output_type": "stream",
     "text": [
      "Iteration 1: 0.5403023058681398\n",
      "Iteration 2: 0.8575532158463933\n",
      "Iteration 3: 0.6542897904977792\n",
      "Iteration 4: 0.7934803587425655\n",
      "Iteration 5: 0.7013687736227566\n",
      "Iteration 6: 0.7639596829006542\n",
      "Iteration 7: 0.7221024250267077\n",
      "Iteration 8: 0.7504177617637605\n",
      "Iteration 9: 0.7314040424225098\n",
      "Iteration 10: 0.7442373549005569\n",
      "Iteration 11: 0.7356047404363473\n",
      "Iteration 12: 0.7414250866101093\n",
      "Iteration 13: 0.7375068905132428\n",
      "Iteration 14: 0.7401473355678757\n",
      "Iteration 15: 0.7383692041223232\n",
      "Iteration 16: 0.739567202212256\n",
      "Iteration 17: 0.7387603198742114\n",
      "Iteration 18: 0.7393038923969057\n",
      "Iteration 19: 0.7389377567153446\n",
      "Iteration 20: 0.7391843997714936\n"
     ]
    }
   ],
   "source": [
    "from math import cos\n",
    "x = 1.0\n",
    "for n in range(20):\n",
    "    x = cos(x)\n",
    "    print(f'Iteration {n+1}: {x}')\n"
   ]
  },
  {
   "cell_type": "code",
   "execution_count": 25,
   "id": "fb894732",
   "metadata": {},
   "outputs": [
    {
     "name": "stdout",
     "output_type": "stream",
     "text": [
      "[1.6666666666666667]\n",
      "[2.5]\n",
      "[2.142857142857143]\n",
      "[2.2727272727272725]\n",
      "[2.2222222222222223]\n",
      "[2.2413793103448274]\n",
      "[2.2340425531914896]\n",
      "[2.236842105263158]\n",
      "[2.235772357723577]\n",
      "[2.2361809045226133]\n",
      "[2.2360248447204967]\n",
      "[2.236084452975048]\n",
      "[2.2360616844602608]\n",
      "[2.2360703812316713]\n",
      "[2.236067059356593]\n",
      "[2.236068328199384]\n",
      "[2.236067843544479]\n",
      "[2.2360680286661676]\n",
      "[2.2360679579559726]\n",
      "[2.2360679849648637]\n"
     ]
    }
   ],
   "source": [
    "x = 5.0\n",
    "for n in range(20):\n",
    "    x=(x+5.0)/(x+1.0)\n",
    "    list1=[x]\n",
    "    print(list1)"
   ]
  },
  {
   "cell_type": "code",
   "execution_count": 28,
   "id": "52aeaa24",
   "metadata": {},
   "outputs": [
    {
     "name": "stdout",
     "output_type": "stream",
     "text": [
      "1.0\n",
      "0.6922006275553464\n",
      "0.6062435350855974\n",
      "0.5796123355033789\n",
      "0.571143115080177\n",
      "0.5684287250290607\n",
      "0.5675566373282834\n",
      "0.5672762321755696\n",
      "0.567186050099357\n",
      "0.5671570440012975\n",
      "0.5671477142601192\n",
      "0.56714471334657\n",
      "0.5671437480994115\n"
     ]
    }
   ],
   "source": [
    "from math import *\n",
    "oldx = 0.0\n",
    "while abs(oldx-exp(-oldx)) > ((10)**(-6)):\n",
    "    newx = exp(-oldx)\n",
    "    oldx = exp(-newx)\n",
    "    print(newx)"
   ]
  },
  {
   "cell_type": "code",
   "execution_count": null,
   "id": "7b585ece",
   "metadata": {},
   "outputs": [],
   "source": []
  },
  {
   "cell_type": "code",
   "execution_count": null,
   "id": "f9ffa44f",
   "metadata": {},
   "outputs": [],
   "source": []
  },
  {
   "cell_type": "code",
   "execution_count": null,
   "id": "63fbda6e",
   "metadata": {},
   "outputs": [],
   "source": []
  },
  {
   "cell_type": "code",
   "execution_count": null,
   "id": "9c5963a5",
   "metadata": {},
   "outputs": [],
   "source": []
  }
 ],
 "metadata": {
  "kernelspec": {
   "display_name": "Python 3 (ipykernel)",
   "language": "python",
   "name": "python3"
  },
  "language_info": {
   "codemirror_mode": {
    "name": "ipython",
    "version": 3
   },
   "file_extension": ".py",
   "mimetype": "text/x-python",
   "name": "python",
   "nbconvert_exporter": "python",
   "pygments_lexer": "ipython3",
   "version": "3.9.13"
  }
 },
 "nbformat": 4,
 "nbformat_minor": 5
}
