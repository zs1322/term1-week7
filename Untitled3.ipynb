{
 "cells": [
  {
   "cell_type": "code",
   "execution_count": null,
   "id": "3e68cfd5",
   "metadata": {},
   "outputs": [],
   "source": [
    "from math import exp\n",
    "oldx = 0.0\n",
    "newx = exp(-oldx)\n",
    "while abs(newx-exp(newx)) > 10**(-6):\n",
    "    newx=exp(-newx)\n",
    "    print(newx)"
   ]
  },
  {
   "cell_type": "code",
   "execution_count": null,
   "id": "47cbbbb0",
   "metadata": {},
   "outputs": [],
   "source": []
  }
 ],
 "metadata": {
  "kernelspec": {
   "display_name": "Python 3 (ipykernel)",
   "language": "python",
   "name": "python3"
  },
  "language_info": {
   "codemirror_mode": {
    "name": "ipython",
    "version": 3
   },
   "file_extension": ".py",
   "mimetype": "text/x-python",
   "name": "python",
   "nbconvert_exporter": "python",
   "pygments_lexer": "ipython3",
   "version": "3.9.13"
  }
 },
 "nbformat": 4,
 "nbformat_minor": 5
}
