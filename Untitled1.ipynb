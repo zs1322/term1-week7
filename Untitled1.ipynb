{
 "cells": [
  {
   "cell_type": "code",
   "execution_count": 7,
   "id": "7c010c47",
   "metadata": {},
   "outputs": [
    {
     "name": "stdout",
     "output_type": "stream",
     "text": [
      "0\n",
      "1\n",
      "4\n",
      "9\n",
      "16\n",
      "25\n",
      "36\n",
      "49\n",
      "64\n",
      "81\n"
     ]
    }
   ],
   "source": [
    "for n in range(10):\n",
    "    print(n**2)\n"
   ]
  },
  {
   "cell_type": "code",
   "execution_count": 8,
   "id": "2b29362f",
   "metadata": {},
   "outputs": [
    {
     "name": "stdout",
     "output_type": "stream",
     "text": [
      "Hello World!\n",
      "Hello World!\n",
      "Hello World!\n",
      "Hello World!\n",
      "Hello World!\n",
      "Hello World!\n",
      "Hello World!\n",
      "Hello World!\n",
      "Hello World!\n",
      "Hello World!\n"
     ]
    }
   ],
   "source": [
    "for n in range(10):\n",
    "    print('Hello World!')"
   ]
  },
  {
   "cell_type": "code",
   "execution_count": 10,
   "id": "522efb39",
   "metadata": {},
   "outputs": [
    {
     "name": "stdout",
     "output_type": "stream",
     "text": [
      "Iteration 1: 0.5403023058681398\n",
      "Iteration 2: 0.8575532158463933\n",
      "Iteration 3: 0.6542897904977792\n",
      "Iteration 4: 0.7934803587425655\n",
      "Iteration 5: 0.7013687736227566\n",
      "Iteration 6: 0.7639596829006542\n",
      "Iteration 7: 0.7221024250267077\n",
      "Iteration 8: 0.7504177617637605\n",
      "Iteration 9: 0.7314040424225098\n",
      "Iteration 10: 0.7442373549005569\n",
      "Iteration 11: 0.7356047404363473\n",
      "Iteration 12: 0.7414250866101093\n",
      "Iteration 13: 0.7375068905132428\n",
      "Iteration 14: 0.7401473355678757\n",
      "Iteration 15: 0.7383692041223232\n",
      "Iteration 16: 0.739567202212256\n",
      "Iteration 17: 0.7387603198742114\n",
      "Iteration 18: 0.7393038923969057\n",
      "Iteration 19: 0.7389377567153446\n",
      "Iteration 20: 0.7391843997714936\n"
     ]
    }
   ],
   "source": [
    "from math import cos\n",
    "x = 1.0\n",
    "for n in range(20):\n",
    "    x = cos(x)\n",
    "    print(f'Iteration {n+1}: {x}')\n"
   ]
  },
  {
   "cell_type": "code",
   "execution_count": null,
   "id": "9df5bce8",
   "metadata": {},
   "outputs": [],
   "source": []
  },
  {
   "cell_type": "code",
   "execution_count": null,
   "id": "3f091ff5",
   "metadata": {},
   "outputs": [],
   "source": []
  },
  {
   "cell_type": "code",
   "execution_count": null,
   "id": "8518869c",
   "metadata": {},
   "outputs": [],
   "source": []
  },
  {
   "cell_type": "code",
   "execution_count": null,
   "id": "3d11cc87",
   "metadata": {},
   "outputs": [],
   "source": []
  },
  {
   "cell_type": "code",
   "execution_count": null,
   "id": "9338460c",
   "metadata": {},
   "outputs": [],
   "source": []
  },
  {
   "cell_type": "code",
   "execution_count": null,
   "id": "838b2906",
   "metadata": {},
   "outputs": [],
   "source": []
  },
  {
   "cell_type": "code",
   "execution_count": null,
   "id": "5a3f32ac",
   "metadata": {},
   "outputs": [],
   "source": []
  },
  {
   "cell_type": "code",
   "execution_count": null,
   "id": "dca305d9",
   "metadata": {},
   "outputs": [],
   "source": []
  }
 ],
 "metadata": {
  "kernelspec": {
   "display_name": "Python 3 (ipykernel)",
   "language": "python",
   "name": "python3"
  },
  "language_info": {
   "codemirror_mode": {
    "name": "ipython",
    "version": 3
   },
   "file_extension": ".py",
   "mimetype": "text/x-python",
   "name": "python",
   "nbconvert_exporter": "python",
   "pygments_lexer": "ipython3",
   "version": "3.9.13"
  }
 },
 "nbformat": 4,
 "nbformat_minor": 5
}
